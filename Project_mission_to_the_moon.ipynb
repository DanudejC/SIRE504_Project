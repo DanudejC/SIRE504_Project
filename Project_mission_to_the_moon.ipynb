{
 "cells": [
  {
   "cell_type": "markdown",
   "metadata": {},
   "source": [
    "# Project: Mission to the Moon\n",
    "## Input = FASTQ\n",
    "### Process01 = Each base: ASCII --> value\n",
    "### Process02 = value --> Q-Score\n",
    "### Process03 = Q-Score --> min,max,mean\n",
    "### Process04 = min,max,mean --> Filter\n",
    "## Output01 = visual (raw data --> filtered)\n",
    "## Output02 = summary report"
   ]
  },
  {
   "cell_type": "code",
   "execution_count": 1,
   "metadata": {},
   "outputs": [],
   "source": [
    "# compare data\n",
    "data_line2 = \"CTCTTATTACATGTCAACCGTTGTGACCACTCATATGCGGTTTCTGAAGCTTCTCAA\"\n",
    "data_line4 = \"<<=>BDCEBCBACCBB66667CBBBGCDA>?>)((&&&&((*+*67)((+,,+/1:>\" #This line show length and Q-score"
   ]
  },
  {
   "cell_type": "code",
   "execution_count": 2,
   "metadata": {},
   "outputs": [],
   "source": [
    "# split data and make list\n",
    "data_line2_split = ([*data_line2])\n",
    "data_line4_split = ([*data_line4])"
   ]
  },
  {
   "cell_type": "code",
   "execution_count": 3,
   "metadata": {},
   "outputs": [
    {
     "data": {
      "text/plain": [
       "57"
      ]
     },
     "execution_count": 3,
     "metadata": {},
     "output_type": "execute_result"
    }
   ],
   "source": [
    "# test find lenght\n",
    "len(data_line4_split)"
   ]
  },
  {
   "cell_type": "code",
   "execution_count": 4,
   "metadata": {
    "scrolled": true
   },
   "outputs": [
    {
     "data": {
      "text/plain": [
       "60"
      ]
     },
     "execution_count": 4,
     "metadata": {},
     "output_type": "execute_result"
    }
   ],
   "source": [
    "# test transform ASCII to number\n",
    "ord(data_line4_split[0])"
   ]
  },
  {
   "cell_type": "code",
   "execution_count": 5,
   "metadata": {},
   "outputs": [
    {
     "name": "stdout",
     "output_type": "stream",
     "text": [
      "ASCII value = 60\n"
     ]
    }
   ],
   "source": [
    "print(\"ASCII value =\",ord(data_line4_split[0]))"
   ]
  },
  {
   "cell_type": "code",
   "execution_count": 6,
   "metadata": {},
   "outputs": [
    {
     "name": "stdout",
     "output_type": "stream",
     "text": [
      "Q-Score = 27\n"
     ]
    }
   ],
   "source": [
    "# transform number to Q-Score\n",
    "q_result = ord(data_line4_split[0]) - 33\n",
    "print(\"Q-Score =\", q_result)"
   ]
  },
  {
   "cell_type": "code",
   "execution_count": 7,
   "metadata": {},
   "outputs": [],
   "source": [
    "def tranform_to_q_scale(line4):\n",
    "   ##### ???\n",
    "    result_dict = {}\n",
    "    data_line4_split = ([*data_line4])\n",
    "    for i in range(0,len(data_line4_split)):\n",
    "       q_result = ord(data_line4_split[i]) - 33 \n",
    "       result_dict[i] = q_result\n",
    "   ##### ???\n",
    "    return result_dict"
   ]
  },
  {
   "cell_type": "code",
   "execution_count": 8,
   "metadata": {},
   "outputs": [],
   "source": [
    "result =  tranform_to_q_scale(data_line4)"
   ]
  },
  {
   "cell_type": "code",
   "execution_count": 9,
   "metadata": {},
   "outputs": [
    {
     "name": "stdout",
     "output_type": "stream",
     "text": [
      "{0: 27, 1: 27, 2: 28, 3: 29, 4: 33, 5: 35, 6: 34, 7: 36, 8: 33, 9: 34, 10: 33, 11: 32, 12: 34, 13: 34, 14: 33, 15: 33, 16: 21, 17: 21, 18: 21, 19: 21, 20: 22, 21: 34, 22: 33, 23: 33, 24: 33, 25: 38, 26: 34, 27: 35, 28: 32, 29: 29, 30: 30, 31: 29, 32: 8, 33: 7, 34: 7, 35: 5, 36: 5, 37: 5, 38: 5, 39: 7, 40: 7, 41: 9, 42: 10, 43: 9, 44: 21, 45: 22, 46: 8, 47: 7, 48: 7, 49: 10, 50: 11, 51: 11, 52: 10, 53: 14, 54: 16, 55: 25, 56: 29}\n"
     ]
    }
   ],
   "source": [
    "print(result)"
   ]
  },
  {
   "cell_type": "code",
   "execution_count": 10,
   "metadata": {},
   "outputs": [
    {
     "data": {
      "text/plain": [
       "dict_values([27, 27, 28, 29, 33, 35, 34, 36, 33, 34, 33, 32, 34, 34, 33, 33, 21, 21, 21, 21, 22, 34, 33, 33, 33, 38, 34, 35, 32, 29, 30, 29, 8, 7, 7, 5, 5, 5, 5, 7, 7, 9, 10, 9, 21, 22, 8, 7, 7, 10, 11, 11, 10, 14, 16, 25, 29])"
      ]
     },
     "execution_count": 10,
     "metadata": {},
     "output_type": "execute_result"
    }
   ],
   "source": [
    "result.values()"
   ]
  },
  {
   "cell_type": "code",
   "execution_count": 11,
   "metadata": {},
   "outputs": [],
   "source": [
    "import numpy as np\n",
    "def max_q (dict_q_result):\n",
    "    # conv. dict to list\n",
    "    list_data = list(dict_q_result.values())\n",
    "    arr_value = np.array(list_data)\n",
    "    max_value = np.max(arr_value)\n",
    "    return max_value\n",
    "\n",
    "def mean_q (dict_q_result):\n",
    "    # conv. dict to list\n",
    "    list_data = list(dict_q_result.values())\n",
    "    arr_value = np.array(list_data)\n",
    "    max_value = np.mean(arr_value)\n",
    "    return max_value\n",
    "\n",
    "def min_q (dict_q_result):\n",
    "    # conv. dict to list\n",
    "    list_data = list(dict_q_result.values())\n",
    "    arr_value = np.array(list_data)\n",
    "    max_value = np.min(arr_value)\n",
    "    return max_value"
   ]
  },
  {
   "cell_type": "code",
   "execution_count": 12,
   "metadata": {},
   "outputs": [
    {
     "name": "stdout",
     "output_type": "stream",
     "text": [
      "38\n",
      "5\n",
      "22.035087719298247\n"
     ]
    }
   ],
   "source": [
    "print(max_q(result))\n",
    "print(min_q(result))\n",
    "print(mean_q(result))"
   ]
  },
  {
   "cell_type": "code",
   "execution_count": 13,
   "metadata": {},
   "outputs": [],
   "source": [
    "x = np.array(list(result.values()))"
   ]
  },
  {
   "cell_type": "code",
   "execution_count": 14,
   "metadata": {},
   "outputs": [
    {
     "name": "stdout",
     "output_type": "stream",
     "text": [
      "38\n",
      "5\n",
      "22.035087719298247\n"
     ]
    }
   ],
   "source": [
    "print(np.max(x))\n",
    "print(np.min(x))\n",
    "print(np.mean(x))"
   ]
  },
  {
   "cell_type": "code",
   "execution_count": 15,
   "metadata": {},
   "outputs": [],
   "source": [
    "class read_set:\n",
    "    def __init__(self, base, q_dict, q_max, q_min, q_avg):\n",
    "        self.base = base\n",
    "        self.q_dict = q_dict\n",
    "        self.q_max = q_max\n",
    "        self.q_min = q_min\n",
    "        self.q_avg = q_avg"
   ]
  },
  {
   "cell_type": "code",
   "execution_count": 16,
   "metadata": {},
   "outputs": [],
   "source": [
    "read_set_1 = read_set(\"CTCTTATTACATGTCAACCGTTGTGACCACTCATATGCGGTTTCTGAAGCTTCTCAA\", result, max_q(result), min_q(result),mean_q(result))"
   ]
  },
  {
   "cell_type": "code",
   "execution_count": 17,
   "metadata": {},
   "outputs": [
    {
     "name": "stdout",
     "output_type": "stream",
     "text": [
      "22.035087719298247\n"
     ]
    }
   ],
   "source": [
    "print(read_set_1.q_avg)"
   ]
  },
  {
   "cell_type": "code",
   "execution_count": 18,
   "metadata": {},
   "outputs": [],
   "source": [
    "a_list = []"
   ]
  },
  {
   "cell_type": "code",
   "execution_count": 19,
   "metadata": {},
   "outputs": [
    {
     "data": {
      "text/plain": [
       "list"
      ]
     },
     "execution_count": 19,
     "metadata": {},
     "output_type": "execute_result"
    }
   ],
   "source": [
    "type(a_list)"
   ]
  },
  {
   "cell_type": "code",
   "execution_count": 20,
   "metadata": {},
   "outputs": [],
   "source": [
    "a_list.append(read_set_1)"
   ]
  },
  {
   "cell_type": "code",
   "execution_count": 21,
   "metadata": {},
   "outputs": [
    {
     "data": {
      "text/plain": [
       "[<__main__.read_set at 0x10750b490>]"
      ]
     },
     "execution_count": 21,
     "metadata": {},
     "output_type": "execute_result"
    }
   ],
   "source": [
    "a_list"
   ]
  },
  {
   "cell_type": "code",
   "execution_count": 22,
   "metadata": {},
   "outputs": [
    {
     "data": {
      "text/plain": [
       "22.035087719298247"
      ]
     },
     "execution_count": 22,
     "metadata": {},
     "output_type": "execute_result"
    }
   ],
   "source": [
    "a_list[0].q_avg"
   ]
  },
  {
   "cell_type": "code",
   "execution_count": 23,
   "metadata": {},
   "outputs": [],
   "source": [
    "# test 5 reads and create list of Q-score\n",
    "read_set_1 = read_set(\"CTCTTATTACATGTCAACCGTTGTGACCACTCATATGCGGTTTCTGAAGCTTCTCAA\", result, max_q(result), min_q(result),mean_q(result))\n",
    "read_set_2 = read_set(\"CTCTTATTACATGTCAACCGTTGTGACCACTCATATGCGGTTTCTGAAGCTTCTCAA\", result, 50, min_q(result),mean_q(result))\n",
    "read_set_3 = read_set(\"CTCTTATTACATGTCAACCGTTGTGACCACTCATATGCGGTTTCTGAAGCTTCTCAA\", result, 30, min_q(result),mean_q(result))\n",
    "read_set_4 = read_set(\"CTCTTATTACATGTCAACCGTTGTGACCACTCATATGCGGTTTCTGAAGCTTCTCAA\", result, 0, min_q(result),mean_q(result))\n",
    "read_set_5 = read_set(\"CTCTTATTACATGTCAACCGTTGTGACCACTCATATGCGGTTTCTGAAGCTTCTCAA\", result, 25, min_q(result),mean_q(result))\n",
    "a_list = []\n",
    "a_list.append(read_set_1)\n",
    "a_list.append(read_set_2)\n",
    "a_list.append(read_set_3)\n",
    "a_list.append(read_set_4)\n",
    "a_list.append(read_set_5)"
   ]
  },
  {
   "cell_type": "code",
   "execution_count": 24,
   "metadata": {},
   "outputs": [
    {
     "name": "stdout",
     "output_type": "stream",
     "text": [
      "<__main__.read_set object at 0x107dd7370>\n",
      "38\n",
      "50\n",
      "30\n"
     ]
    }
   ],
   "source": [
    "print(a_list[0])\n",
    "print(a_list[0].q_max)\n",
    "print(a_list[1].q_max)\n",
    "print(a_list[2].q_max)"
   ]
  },
  {
   "cell_type": "code",
   "execution_count": 25,
   "metadata": {},
   "outputs": [],
   "source": [
    "def filter_max(max_limit): # ควรเอา a_list ใส่ในนี้\n",
    "    result_filter = []\n",
    "    for i in range(0, len(a_list)):\n",
    "        if a_list[i].q_max >= max_limit:\n",
    "            result_filter.append(a_list[i])\n",
    "    return result_filter"
   ]
  },
  {
   "cell_type": "code",
   "execution_count": 37,
   "metadata": {},
   "outputs": [],
   "source": [
    "def filter_max(max_limit, data_list): # ควรเอา a_list ใส่ในนี้\n",
    "    result_filter = []\n",
    "    for i in range(0, len(data_list)):\n",
    "        if data_list[i].q_max >= max_limit:\n",
    "            result_filter.append(data_list[i])\n",
    "    return result_filter"
   ]
  },
  {
   "cell_type": "code",
   "execution_count": 31,
   "metadata": {},
   "outputs": [],
   "source": [
    "result_filter = []\n",
    "for i in range(0, len(a_list)):\n",
    "    if a_list[i].q_max >= 30:\n",
    "        result_filter.append(a_list[i])"
   ]
  },
  {
   "cell_type": "code",
   "execution_count": 32,
   "metadata": {
    "scrolled": true
   },
   "outputs": [
    {
     "data": {
      "text/plain": [
       "38"
      ]
     },
     "execution_count": 32,
     "metadata": {},
     "output_type": "execute_result"
    }
   ],
   "source": [
    "result_filter[0].q_max"
   ]
  },
  {
   "cell_type": "code",
   "execution_count": 33,
   "metadata": {},
   "outputs": [
    {
     "data": {
      "text/plain": [
       "5"
      ]
     },
     "execution_count": 33,
     "metadata": {},
     "output_type": "execute_result"
    }
   ],
   "source": [
    "result_filter[0].q_min"
   ]
  },
  {
   "cell_type": "code",
   "execution_count": 34,
   "metadata": {},
   "outputs": [
    {
     "data": {
      "text/plain": [
       "22.035087719298247"
      ]
     },
     "execution_count": 34,
     "metadata": {},
     "output_type": "execute_result"
    }
   ],
   "source": [
    "result_filter[0].q_avg"
   ]
  },
  {
   "cell_type": "code",
   "execution_count": 36,
   "metadata": {},
   "outputs": [
    {
     "data": {
      "text/plain": [
       "[<__main__.read_set at 0x107dd7370>,\n",
       " <__main__.read_set at 0x107dd7af0>,\n",
       " <__main__.read_set at 0x107dd64a0>,\n",
       " <__main__.read_set at 0x107dd7520>]"
      ]
     },
     "execution_count": 36,
     "metadata": {},
     "output_type": "execute_result"
    }
   ],
   "source": [
    "filter_max(10)"
   ]
  },
  {
   "cell_type": "code",
   "execution_count": null,
   "metadata": {},
   "outputs": [],
   "source": []
  }
 ],
 "metadata": {
  "kernelspec": {
   "display_name": "Python 3",
   "language": "python",
   "name": "python3"
  },
  "language_info": {
   "codemirror_mode": {
    "name": "ipython",
    "version": 3
   },
   "file_extension": ".py",
   "mimetype": "text/x-python",
   "name": "python",
   "nbconvert_exporter": "python",
   "pygments_lexer": "ipython3",
   "version": "3.10.6 (tags/v3.10.6:9c7b4bd, Aug  1 2022, 21:53:49) [MSC v.1932 64 bit (AMD64)]"
  },
  "vscode": {
   "interpreter": {
    "hash": "369f2c481f4da34e4445cda3fffd2e751bd1c4d706f27375911949ba6bb62e1c"
   }
  }
 },
 "nbformat": 4,
 "nbformat_minor": 2
}
