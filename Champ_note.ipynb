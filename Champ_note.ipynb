{
 "cells": [
  {
   "cell_type": "markdown",
   "metadata": {},
   "source": [
    "# Import data from fastq file #"
   ]
  },
  {
   "cell_type": "code",
   "execution_count": 1,
   "metadata": {},
   "outputs": [],
   "source": [
    "import numpy as np\n",
    "from Bio import SeqIO"
   ]
  },
  {
   "cell_type": "code",
   "execution_count": 20,
   "metadata": {},
   "outputs": [],
   "source": [
    "records_data = list(SeqIO.parse(\"ont.exp2.fastq\", \"fastq\"))"
   ]
  },
  {
   "cell_type": "markdown",
   "metadata": {},
   "source": [
    "## convert data in records_data (letter_annotations) from string array to int ##"
   ]
  },
  {
   "cell_type": "code",
   "execution_count": 11,
   "metadata": {},
   "outputs": [],
   "source": [
    "def convert_letter_string_to_int(data_before):\n",
    "    list_data_result = []\n",
    "    received_data = str(data_before)\n",
    "    split_rount_1 = received_data.split('[')\n",
    "    split_rount_2 = split_rount_1[1].split(']')\n",
    "    split_rount_3 = split_rount_2[0].split(',')\n",
    "    for conv_buffer in split_rount_3:\n",
    "        list_data_result.append(int(conv_buffer))\n",
    "    return list_data_result\n",
    "    "
   ]
  },
  {
   "cell_type": "markdown",
   "metadata": {},
   "source": [
    "## change to numpy format and find max, min and mean ##"
   ]
  },
  {
   "cell_type": "code",
   "execution_count": 12,
   "metadata": {},
   "outputs": [],
   "source": [
    "def conv_data_to_np_arrays(datas):\n",
    "    result = np.array(datas)\n",
    "    return result"
   ]
  },
  {
   "cell_type": "markdown",
   "metadata": {},
   "source": [
    "## Create class ##"
   ]
  },
  {
   "cell_type": "code",
   "execution_count": 13,
   "metadata": {},
   "outputs": [],
   "source": [
    "class Data_Class:\n",
    "    def __init__(self, id, QScore_len, QScore_max, QScore_avg, QScore_min):\n",
    "        self.id = id\n",
    "        self.Qscore_len = QScore_len\n",
    "        self.Qscore_max = QScore_max\n",
    "        self.Qscore_avg = QScore_avg\n",
    "        self.Qscore_min = QScore_min\n",
    "    def __str__(self):\n",
    "        result = str(self.id)+ \" / \" + str(self.Qscore_len)+ \" / \" + str(self.Qscore_max)+\" / \" + str(self.Qscore_avg)+\" / \" + str(self.Qscore_min)\n",
    "        return result\n",
    "        "
   ]
  },
  {
   "cell_type": "markdown",
   "metadata": {},
   "source": [
    "## Create object ##"
   ]
  },
  {
   "cell_type": "code",
   "execution_count": 14,
   "metadata": {},
   "outputs": [],
   "source": [
    "records_data_list_id = []\n",
    "records_data_list_len = []\n",
    "records_data_list_max = []\n",
    "records_data_list_avg = []\n",
    "records_data_list_min = []\n",
    "for records_data_buffer in records_data:\n",
    "    result_data_conv = convert_letter_string_to_int(records_data_buffer.letter_annotations)\n",
    "    arr_np_result = conv_data_to_np_arrays(result_data_conv)\n",
    "    records_data_list_id.append(str(records_data_buffer.id))\n",
    "    records_data_list_len.append(len(result_data_conv))\n",
    "    records_data_list_max.append(np.max(arr_np_result))\n",
    "    records_data_list_avg.append(np.mean(arr_np_result))\n",
    "    records_data_list_min.append(np.min(arr_np_result))\n"
   ]
  },
  {
   "cell_type": "markdown",
   "metadata": {},
   "source": [
    "## Create dataframe ## "
   ]
  },
  {
   "cell_type": "code",
   "execution_count": 15,
   "metadata": {},
   "outputs": [
    {
     "name": "stdout",
     "output_type": "stream",
     "text": [
      "        id  length  max    average  min\n",
      "0   test01    5658   52  20.430364    1\n",
      "1   test02    2158   63  20.809546    1\n",
      "2   test03    3941   50  19.459528    1\n",
      "3   test04    2828   50  18.690240    1\n",
      "4   test05    1292   45  18.506192    1\n",
      "5   test06     548   47  19.312044    1\n",
      "6   test07     708   43  20.093220    1\n",
      "7   test08    3653   49  16.831645    1\n",
      "8   test09    5060   49  15.296640    1\n",
      "9   test10    1083   46  18.704524    1\n",
      "10  test11       5   30  19.400000    3\n",
      "11  test12      19   32  17.052632    4\n"
     ]
    }
   ],
   "source": [
    "import pandas as pd\n",
    "records_df = pd.DataFrame({\"id\":records_data_list_id, \"length\":records_data_list_len , \"max\": records_data_list_max,\n",
    "                                    \"average\": records_data_list_avg, \"min\": records_data_list_min})\n",
    "print(records_df)"
   ]
  },
  {
   "cell_type": "markdown",
   "metadata": {},
   "source": []
  },
  {
   "cell_type": "markdown",
   "metadata": {},
   "source": [
    "## Example for filtering data in dataframe ##"
   ]
  },
  {
   "cell_type": "code",
   "execution_count": 16,
   "metadata": {},
   "outputs": [],
   "source": [
    "filter_df = records_df[(50 >= records_df['max']) & (30 <= records_df['max'])]"
   ]
  },
  {
   "cell_type": "code",
   "execution_count": 17,
   "metadata": {},
   "outputs": [
    {
     "data": {
      "text/html": [
       "<div>\n",
       "<style scoped>\n",
       "    .dataframe tbody tr th:only-of-type {\n",
       "        vertical-align: middle;\n",
       "    }\n",
       "\n",
       "    .dataframe tbody tr th {\n",
       "        vertical-align: top;\n",
       "    }\n",
       "\n",
       "    .dataframe thead th {\n",
       "        text-align: right;\n",
       "    }\n",
       "</style>\n",
       "<table border=\"1\" class=\"dataframe\">\n",
       "  <thead>\n",
       "    <tr style=\"text-align: right;\">\n",
       "      <th></th>\n",
       "      <th>id</th>\n",
       "      <th>length</th>\n",
       "      <th>max</th>\n",
       "      <th>average</th>\n",
       "      <th>min</th>\n",
       "    </tr>\n",
       "  </thead>\n",
       "  <tbody>\n",
       "    <tr>\n",
       "      <th>2</th>\n",
       "      <td>test03</td>\n",
       "      <td>3941</td>\n",
       "      <td>50</td>\n",
       "      <td>19.459528</td>\n",
       "      <td>1</td>\n",
       "    </tr>\n",
       "    <tr>\n",
       "      <th>3</th>\n",
       "      <td>test04</td>\n",
       "      <td>2828</td>\n",
       "      <td>50</td>\n",
       "      <td>18.690240</td>\n",
       "      <td>1</td>\n",
       "    </tr>\n",
       "    <tr>\n",
       "      <th>4</th>\n",
       "      <td>test05</td>\n",
       "      <td>1292</td>\n",
       "      <td>45</td>\n",
       "      <td>18.506192</td>\n",
       "      <td>1</td>\n",
       "    </tr>\n",
       "    <tr>\n",
       "      <th>5</th>\n",
       "      <td>test06</td>\n",
       "      <td>548</td>\n",
       "      <td>47</td>\n",
       "      <td>19.312044</td>\n",
       "      <td>1</td>\n",
       "    </tr>\n",
       "    <tr>\n",
       "      <th>6</th>\n",
       "      <td>test07</td>\n",
       "      <td>708</td>\n",
       "      <td>43</td>\n",
       "      <td>20.093220</td>\n",
       "      <td>1</td>\n",
       "    </tr>\n",
       "    <tr>\n",
       "      <th>7</th>\n",
       "      <td>test08</td>\n",
       "      <td>3653</td>\n",
       "      <td>49</td>\n",
       "      <td>16.831645</td>\n",
       "      <td>1</td>\n",
       "    </tr>\n",
       "    <tr>\n",
       "      <th>8</th>\n",
       "      <td>test09</td>\n",
       "      <td>5060</td>\n",
       "      <td>49</td>\n",
       "      <td>15.296640</td>\n",
       "      <td>1</td>\n",
       "    </tr>\n",
       "    <tr>\n",
       "      <th>9</th>\n",
       "      <td>test10</td>\n",
       "      <td>1083</td>\n",
       "      <td>46</td>\n",
       "      <td>18.704524</td>\n",
       "      <td>1</td>\n",
       "    </tr>\n",
       "    <tr>\n",
       "      <th>10</th>\n",
       "      <td>test11</td>\n",
       "      <td>5</td>\n",
       "      <td>30</td>\n",
       "      <td>19.400000</td>\n",
       "      <td>3</td>\n",
       "    </tr>\n",
       "    <tr>\n",
       "      <th>11</th>\n",
       "      <td>test12</td>\n",
       "      <td>19</td>\n",
       "      <td>32</td>\n",
       "      <td>17.052632</td>\n",
       "      <td>4</td>\n",
       "    </tr>\n",
       "  </tbody>\n",
       "</table>\n",
       "</div>"
      ],
      "text/plain": [
       "        id  length  max    average  min\n",
       "2   test03    3941   50  19.459528    1\n",
       "3   test04    2828   50  18.690240    1\n",
       "4   test05    1292   45  18.506192    1\n",
       "5   test06     548   47  19.312044    1\n",
       "6   test07     708   43  20.093220    1\n",
       "7   test08    3653   49  16.831645    1\n",
       "8   test09    5060   49  15.296640    1\n",
       "9   test10    1083   46  18.704524    1\n",
       "10  test11       5   30  19.400000    3\n",
       "11  test12      19   32  17.052632    4"
      ]
     },
     "execution_count": 17,
     "metadata": {},
     "output_type": "execute_result"
    }
   ],
   "source": [
    "filter_df"
   ]
  },
  {
   "cell_type": "code",
   "execution_count": null,
   "metadata": {},
   "outputs": [],
   "source": []
  }
 ],
 "metadata": {
  "interpreter": {
   "hash": "cbfed9f4ad065fe2683a32a46fd2435a3baa03107a0ea81175ad0b94ce32c97b"
  },
  "kernelspec": {
   "display_name": "Python 3 (ipykernel)",
   "language": "python",
   "name": "python3"
  },
  "language_info": {
   "codemirror_mode": {
    "name": "ipython",
    "version": 3
   },
   "file_extension": ".py",
   "mimetype": "text/x-python",
   "name": "python",
   "nbconvert_exporter": "python",
   "pygments_lexer": "ipython3",
   "version": "3.10.6"
  }
 },
 "nbformat": 4,
 "nbformat_minor": 2
}
