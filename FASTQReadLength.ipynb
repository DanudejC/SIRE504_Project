{
 "cells": [
  {
   "cell_type": "code",
   "execution_count": 36,
   "id": "0ba55d77",
   "metadata": {},
   "outputs": [
    {
     "name": "stdout",
     "output_type": "stream",
     "text": [
      "Read length analysis complete\n"
     ]
    }
   ],
   "source": [
    "import gzip\n",
    "import shutil\n",
    "from pathlib import Path\n",
    "from datetime import datetime\n",
    "import re, csv\n",
    "\n",
    "\n",
    "def QScore_Cal(ASCII):\n",
    "    list_Qscore = []\n",
    "    list_ASCII = []\n",
    "    Dict_Qscore = {}\n",
    "    length_ASCII = len(ASCII)\n",
    "    for each_ASCII in ASCII:\n",
    "        each_Qscore = ord(each_ASCII)-33\n",
    "        list_Qscore.append(each_Qscore)\n",
    "        list_ASCII.append(each_ASCII)\n",
    "    sum_Qscore = sum(list_Qscore)\n",
    "    average_Qscore = sum_Qscore/length_ASCII\n",
    "    return average_Qscore\n",
    "\n",
    "def ReadLength(gzfile):\n",
    "    output = []    \n",
    "    outputtime = datetime.now().strftime(\"%Y_%m_%d-%H_%M_%S\")\n",
    "    with open('output-' + outputtime + '.tsv','w') as tableOut:\n",
    "        writer = csv.writer(tableOut, delimiter = \"\\t\")\n",
    "        writer.writerow(['Read_ID', 'Barcode', 'Read_length', 'Average_Qscore'])\n",
    "        \n",
    "    with gzip.open(gzfile, 'rb') as filein:\n",
    "        with open('processfile.fastq', 'wb') as fileout:\n",
    "            shutil.copyfileobj(filein, fileout)\n",
    "            path = Path('processfile.fastq')\n",
    "            with open(path, 'r') as readfile:\n",
    "                lines = readfile.read()\n",
    "                for data in re.finditer (r'@(?P<Read_ID>\\w*).*barcode=(?P<Read_barcode>\\w*).*\\n.*\\n\\+\\n(?P<Read_Qscore>.*)', lines):\n",
    "                    readID = data.group('Read_ID')\n",
    "                    readBarcode = data.group('Read_barcode')\n",
    "                    readQscore = data.group('Read_Qscore')\n",
    "                    readlength = str(len(readQscore))\n",
    "                    readscore = data.group('Read_Qscore')\n",
    "                    dataoutput = (readID, readBarcode, readlength, QScore_Cal(readQscore))\n",
    "                    outputlist = list(dataoutput)\n",
    "\n",
    "                    with open('output-' + outputtime + '.tsv','a') as tableOut:\n",
    "                            writer = csv.writer(tableOut, delimiter = \"\\t\")\n",
    "                            for add in outputlist:\n",
    "                                output.append(add)\n",
    "                            writer.writerow(outputlist)\n",
    "                            \n",
    "    path.unlink()\n",
    "    \n",
    "    print (\"Read length analysis complete\")\n",
    "    \n",
    "    \n",
    "# ReadLength(\"ont.exp2.fastq.gz\")\n",
    "ReadLength(\"sampleNew.fastq.gz\")"
   ]
  }
 ],
 "metadata": {
  "kernelspec": {
   "display_name": "python3.9",
   "language": "python",
   "name": "python3.9"
  },
  "language_info": {
   "codemirror_mode": {
    "name": "ipython",
    "version": 3
   },
   "file_extension": ".py",
   "mimetype": "text/x-python",
   "name": "python",
   "nbconvert_exporter": "python",
   "pygments_lexer": "ipython3",
   "version": "3.9.13"
  },
  "vscode": {
   "interpreter": {
    "hash": "369f2c481f4da34e4445cda3fffd2e751bd1c4d706f27375911949ba6bb62e1c"
   }
  }
 },
 "nbformat": 4,
 "nbformat_minor": 5
}
