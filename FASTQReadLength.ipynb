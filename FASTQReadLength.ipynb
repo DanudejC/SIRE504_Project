{
 "cells": [
  {
   "cell_type": "code",
   "execution_count": 3,
   "id": "0ba55d77",
   "metadata": {},
   "outputs": [
    {
     "name": "stdout",
     "output_type": "stream",
     "text": [
      "Read length analysis complete\n"
     ]
    }
   ],
   "source": [
    "import gzip\n",
    "import shutil\n",
    "from pathlib import Path\n",
    "from datetime import datetime\n",
    "import re, csv\n",
    "\n",
    "def ReadLength(gzfile):\n",
    "    output = []    \n",
    "    outputtime = datetime.now().strftime(\"%Y_%m_%d-%H_%M_%S\")\n",
    "    with open('output-' + outputtime + '.tsv','w') as tableOut:\n",
    "        writer = csv.writer(tableOut, delimiter = \"\\t\")\n",
    "        writer.writerow(['Read_ID', 'Read_length'])\n",
    "        \n",
    "    with gzip.open(gzfile, 'rb') as filein:\n",
    "        with open('processfile.fastq', 'wb') as fileout:\n",
    "            shutil.copyfileobj(filein, fileout)\n",
    "            path = Path('processfile.fastq')\n",
    "            with open(path, 'r') as readfile:\n",
    "                lines = readfile.read()\n",
    "                for data in re.finditer (r'@(?P<Read_ID>.*)\\n(?P<Read_seq>\\w*)\\n(?P<plus>\\+)\\n(?P<Read_Qscore>.*)', lines):\n",
    "                    readID = data.group('Read_ID')\n",
    "                    readsequence = data.group('Read_seq')\n",
    "                    readlength = str(len(readsequence))\n",
    "                    plus = data.group('plus')\n",
    "                    readscore = data.group('Read_Qscore')\n",
    "                    dataoutput = (readID, readlength)\n",
    "                    outputlist = list(dataoutput)\n",
    "\n",
    "                    with open('output-' + outputtime + '.tsv','a') as tableOut:\n",
    "                            writer = csv.writer(tableOut, delimiter = \"\\t\")\n",
    "                            for add in outputlist:\n",
    "                                output.append(add)\n",
    "                            writer.writerow(outputlist)\n",
    "                            \n",
    "    path.unlink()\n",
    "    \n",
    "    print (\"Read length analysis complete\")\n",
    "    \n",
    "    \n",
    "ReadLength(\"sample.fastq.gz\")\n",
    "# ReadLength(\"I7-LDF10936_L2_1.fq.gz\")"
   ]
  }
 ],
 "metadata": {
  "kernelspec": {
   "display_name": "python3.9",
   "language": "python",
   "name": "python3.9"
  },
  "language_info": {
   "codemirror_mode": {
    "name": "ipython",
    "version": 3
   },
   "file_extension": ".py",
   "mimetype": "text/x-python",
   "name": "python",
   "nbconvert_exporter": "python",
   "pygments_lexer": "ipython3",
   "version": "3.9.13"
  }
 },
 "nbformat": 4,
 "nbformat_minor": 5
}
