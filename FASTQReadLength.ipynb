{
 "cells": [
  {
   "cell_type": "code",
   "execution_count": 1,
   "id": "0ba55d77",
   "metadata": {},
   "outputs": [],
   "source": [
    "from pathlib import Path\n",
    "from datetime import datetime\n",
    "import re, csv\n",
    "\n",
    "def ReadLength(file):\n",
    "    output = []    \n",
    "    outputtime = datetime.now().strftime(\"%Y_%m_%d-%H_%M_%S\")\n",
    "    seq = Path(\"sample.fastq\")\n",
    "    with open('output-' + outputtime + '.tsv','w') as tableOut:\n",
    "        writer = csv.writer(tableOut, delimiter = \"\\t\")\n",
    "        writer.writerow(['Read_ID', 'Read_length'])\n",
    "    \n",
    "    with open(seq, 'r') as inputfile:\n",
    "        lines = inputfile.read()\n",
    "        for data in re.finditer (r'@(?P<Read_ID>.*)\\n(?P<Read_seq>\\w*)\\n(?P<plus>.)\\n(?P<Read_Qscore>.*)', lines):\n",
    "            readID = (data.group('Read_ID'))\n",
    "            readsequence = (data.group('Read_seq'))\n",
    "            readlength = str(len(readsequence))\n",
    "            data = (readID, readlength)\n",
    "            outputlist = list(data)\n",
    "\n",
    "            with open('output-' + outputtime + '.tsv','a') as tableOut:\n",
    "                    writer = csv.writer(tableOut, delimiter = \"\\t\")\n",
    "                    for add in outputlist:\n",
    "                        output.append(add)\n",
    "                    writer.writerow(outputlist)\n",
    "    \n",
    "ReadLength(\"sample.fastq\")\n"
   ]
  }
 ],
 "metadata": {
  "kernelspec": {
   "display_name": "python3.9",
   "language": "python",
   "name": "python3.9"
  },
  "language_info": {
   "codemirror_mode": {
    "name": "ipython",
    "version": 3
   },
   "file_extension": ".py",
   "mimetype": "text/x-python",
   "name": "python",
   "nbconvert_exporter": "python",
   "pygments_lexer": "ipython3",
   "version": "3.9.13"
  }
 },
 "nbformat": 4,
 "nbformat_minor": 5
}
